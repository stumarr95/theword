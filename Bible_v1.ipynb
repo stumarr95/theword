{
 "cells": [
  {
   "cell_type": "code",
   "execution_count": 3,
   "id": "46c13d67",
   "metadata": {},
   "outputs": [
    {
     "name": "stdout",
     "output_type": "stream",
     "text": [
      "        id  b  c  v                                                  t\n",
      "0  1001001  1  1  1  In the beginning God created the heaven and th...\n",
      "1  1001002  1  1  2  And the earth was without form, and void; and ...\n",
      "2  1001003  1  1  3  And God said, Let there be light: and there wa...\n",
      "3  1001004  1  1  4  And God saw the light, that it was good: and G...\n",
      "4  1001005  1  1  5  And God called the light Day, and the darkness...\n"
     ]
    }
   ],
   "source": [
    "import pandas as pd\n",
    "\n",
    "# Specify the path to your CSV file\n",
    "csv_file_path = '/home/rancher/projects/Bible/dataset/t_kjv.csv'\n",
    "\n",
    "# Read the CSV file into a dataframe\n",
    "df = pd.read_csv(csv_file_path)\n",
    "\n",
    "# Now you can work with the dataframe\n",
    "# For example, you can print the first few rows\n",
    "print(df.head())\n"
   ]
  },
  {
   "cell_type": "markdown",
   "id": "356a8903",
   "metadata": {},
   "source": [
    "## Load genres, Bible version dataset, and genre"
   ]
  },
  {
   "cell_type": "code",
   "execution_count": 4,
   "id": "db69b298",
   "metadata": {},
   "outputs": [
    {
     "name": "stdout",
     "output_type": "stream",
     "text": [
      "   g         n\n",
      "0  1       Law\n",
      "1  2   History\n",
      "2  3    Wisdom\n",
      "3  4  Prophets\n",
      "4  5   Gospels\n"
     ]
    }
   ],
   "source": [
    "genres = pd.read_csv('/home/rancher/projects/Bible/dataset/key_genre_english.csv')\n",
    "kjv_bible = pd.read_csv('/home/rancher/projects/Bible/dataset/t_kjv.csv')\n",
    "book = pd.read_csv('/home/rancher/projects/Bible/dataset/key_english.csv')\n",
    "\n",
    "print(genres.head())"
   ]
  },
  {
   "cell_type": "markdown",
   "id": "25234dac",
   "metadata": {},
   "source": [
    "## Merge book, version, genre on genre"
   ]
  },
  {
   "cell_type": "code",
   "execution_count": 5,
   "id": "a1d906b6",
   "metadata": {},
   "outputs": [
    {
     "name": "stdout",
     "output_type": "stream",
     "text": [
      "   b          n_x   t  g  n_y\n",
      "0  1      Genesis  OT  1  Law\n",
      "1  2       Exodus  OT  1  Law\n",
      "2  3    Leviticus  OT  1  Law\n",
      "3  4      Numbers  OT  1  Law\n",
      "4  5  Deuteronomy  OT  1  Law\n"
     ]
    }
   ],
   "source": [
    "book = pd.merge(book, genres, on='g')\n",
    "print(book.head())"
   ]
  },
  {
   "cell_type": "code",
   "execution_count": 10,
   "id": "d5b6d430",
   "metadata": {},
   "outputs": [
    {
     "data": {
      "text/html": [
       "<div>\n",
       "<style scoped>\n",
       "    .dataframe tbody tr th:only-of-type {\n",
       "        vertical-align: middle;\n",
       "    }\n",
       "\n",
       "    .dataframe tbody tr th {\n",
       "        vertical-align: top;\n",
       "    }\n",
       "\n",
       "    .dataframe thead th {\n",
       "        text-align: right;\n",
       "    }\n",
       "</style>\n",
       "<table border=\"1\" class=\"dataframe\">\n",
       "  <thead>\n",
       "    <tr style=\"text-align: right;\">\n",
       "      <th></th>\n",
       "      <th>id</th>\n",
       "      <th>b</th>\n",
       "      <th>c</th>\n",
       "      <th>v</th>\n",
       "      <th>t_x</th>\n",
       "      <th>n_x</th>\n",
       "      <th>t_y</th>\n",
       "      <th>g</th>\n",
       "      <th>n_y</th>\n",
       "    </tr>\n",
       "  </thead>\n",
       "  <tbody>\n",
       "    <tr>\n",
       "      <th>0</th>\n",
       "      <td>1001001</td>\n",
       "      <td>1</td>\n",
       "      <td>1</td>\n",
       "      <td>1</td>\n",
       "      <td>In the beginning God created the heaven and th...</td>\n",
       "      <td>Genesis</td>\n",
       "      <td>OT</td>\n",
       "      <td>1</td>\n",
       "      <td>Law</td>\n",
       "    </tr>\n",
       "    <tr>\n",
       "      <th>1</th>\n",
       "      <td>1001002</td>\n",
       "      <td>1</td>\n",
       "      <td>1</td>\n",
       "      <td>2</td>\n",
       "      <td>And the earth was without form, and void; and ...</td>\n",
       "      <td>Genesis</td>\n",
       "      <td>OT</td>\n",
       "      <td>1</td>\n",
       "      <td>Law</td>\n",
       "    </tr>\n",
       "    <tr>\n",
       "      <th>2</th>\n",
       "      <td>1001003</td>\n",
       "      <td>1</td>\n",
       "      <td>1</td>\n",
       "      <td>3</td>\n",
       "      <td>And God said, Let there be light: and there wa...</td>\n",
       "      <td>Genesis</td>\n",
       "      <td>OT</td>\n",
       "      <td>1</td>\n",
       "      <td>Law</td>\n",
       "    </tr>\n",
       "    <tr>\n",
       "      <th>3</th>\n",
       "      <td>1001004</td>\n",
       "      <td>1</td>\n",
       "      <td>1</td>\n",
       "      <td>4</td>\n",
       "      <td>And God saw the light, that it was good: and G...</td>\n",
       "      <td>Genesis</td>\n",
       "      <td>OT</td>\n",
       "      <td>1</td>\n",
       "      <td>Law</td>\n",
       "    </tr>\n",
       "    <tr>\n",
       "      <th>4</th>\n",
       "      <td>1001005</td>\n",
       "      <td>1</td>\n",
       "      <td>1</td>\n",
       "      <td>5</td>\n",
       "      <td>And God called the light Day, and the darkness...</td>\n",
       "      <td>Genesis</td>\n",
       "      <td>OT</td>\n",
       "      <td>1</td>\n",
       "      <td>Law</td>\n",
       "    </tr>\n",
       "  </tbody>\n",
       "</table>\n",
       "</div>"
      ],
      "text/plain": [
       "        id  b  c  v                                                t_x  \\\n",
       "0  1001001  1  1  1  In the beginning God created the heaven and th...   \n",
       "1  1001002  1  1  2  And the earth was without form, and void; and ...   \n",
       "2  1001003  1  1  3  And God said, Let there be light: and there wa...   \n",
       "3  1001004  1  1  4  And God saw the light, that it was good: and G...   \n",
       "4  1001005  1  1  5  And God called the light Day, and the darkness...   \n",
       "\n",
       "       n_x t_y  g  n_y  \n",
       "0  Genesis  OT  1  Law  \n",
       "1  Genesis  OT  1  Law  \n",
       "2  Genesis  OT  1  Law  \n",
       "3  Genesis  OT  1  Law  \n",
       "4  Genesis  OT  1  Law  "
      ]
     },
     "execution_count": 10,
     "metadata": {},
     "output_type": "execute_result"
    }
   ],
   "source": [
    "df = pd.merge(kjv_bible, book, left_on = 'b', right_on = 'b')\n",
    "df.head()"
   ]
  },
  {
   "cell_type": "markdown",
   "id": "bbe19a80",
   "metadata": {},
   "source": [
    "## Rename column headers"
   ]
  },
  {
   "cell_type": "code",
   "execution_count": 6,
   "id": "4874b70b",
   "metadata": {},
   "outputs": [
    {
     "data": {
      "text/html": [
       "<div>\n",
       "<style scoped>\n",
       "    .dataframe tbody tr th:only-of-type {\n",
       "        vertical-align: middle;\n",
       "    }\n",
       "\n",
       "    .dataframe tbody tr th {\n",
       "        vertical-align: top;\n",
       "    }\n",
       "\n",
       "    .dataframe thead th {\n",
       "        text-align: right;\n",
       "    }\n",
       "</style>\n",
       "<table border=\"1\" class=\"dataframe\">\n",
       "  <thead>\n",
       "    <tr style=\"text-align: right;\">\n",
       "      <th></th>\n",
       "      <th>id</th>\n",
       "      <th>b</th>\n",
       "      <th>c</th>\n",
       "      <th>v</th>\n",
       "      <th>t</th>\n",
       "    </tr>\n",
       "  </thead>\n",
       "  <tbody>\n",
       "    <tr>\n",
       "      <th>0</th>\n",
       "      <td>1001001</td>\n",
       "      <td>1</td>\n",
       "      <td>1</td>\n",
       "      <td>1</td>\n",
       "      <td>In the beginning God created the heaven and th...</td>\n",
       "    </tr>\n",
       "    <tr>\n",
       "      <th>1</th>\n",
       "      <td>1001002</td>\n",
       "      <td>1</td>\n",
       "      <td>1</td>\n",
       "      <td>2</td>\n",
       "      <td>And the earth was without form, and void; and ...</td>\n",
       "    </tr>\n",
       "    <tr>\n",
       "      <th>2</th>\n",
       "      <td>1001003</td>\n",
       "      <td>1</td>\n",
       "      <td>1</td>\n",
       "      <td>3</td>\n",
       "      <td>And God said, Let there be light: and there wa...</td>\n",
       "    </tr>\n",
       "    <tr>\n",
       "      <th>3</th>\n",
       "      <td>1001004</td>\n",
       "      <td>1</td>\n",
       "      <td>1</td>\n",
       "      <td>4</td>\n",
       "      <td>And God saw the light, that it was good: and G...</td>\n",
       "    </tr>\n",
       "    <tr>\n",
       "      <th>4</th>\n",
       "      <td>1001005</td>\n",
       "      <td>1</td>\n",
       "      <td>1</td>\n",
       "      <td>5</td>\n",
       "      <td>And God called the light Day, and the darkness...</td>\n",
       "    </tr>\n",
       "  </tbody>\n",
       "</table>\n",
       "</div>"
      ],
      "text/plain": [
       "        id  b  c  v                                                  t\n",
       "0  1001001  1  1  1  In the beginning God created the heaven and th...\n",
       "1  1001002  1  1  2  And the earth was without form, and void; and ...\n",
       "2  1001003  1  1  3  And God said, Let there be light: and there wa...\n",
       "3  1001004  1  1  4  And God saw the light, that it was good: and G...\n",
       "4  1001005  1  1  5  And God called the light Day, and the darkness..."
      ]
     },
     "execution_count": 6,
     "metadata": {},
     "output_type": "execute_result"
    }
   ],
   "source": [
    "df = df.rename(columns={'t_x': 'content', 'n_x' : 'book', 't_y' : 'testament', 'n_y' : 'genre'})\n",
    "df.head()"
   ]
  },
  {
   "cell_type": "code",
   "execution_count": 10,
   "id": "0cb3f20d",
   "metadata": {},
   "outputs": [
    {
     "name": "stdout",
     "output_type": "stream",
     "text": [
      "['id', 'b', 'c', 'v', 't']\n"
     ]
    }
   ],
   "source": [
    "column_headers = df.columns.tolist()\n",
    "\n",
    "print(column_headers)"
   ]
  },
  {
   "cell_type": "markdown",
   "id": "884bb570",
   "metadata": {},
   "source": [
    "## Search for a specific term (return count)"
   ]
  },
  {
   "cell_type": "code",
   "execution_count": 37,
   "id": "bed4767f",
   "metadata": {},
   "outputs": [
    {
     "name": "stdout",
     "output_type": "stream",
     "text": [
      "             id   b   c   v                                                  t\n",
      "23209  40003017  40   3  17  And lo a voice from heaven, saying, This is my...\n",
      "23277  40005043  40   5  43  Ye have heard that it hath been said, Thou sha...\n",
      "23278  40005044  40   5  44  But I say unto you, Love your enemies, bless t...\n",
      "23280  40005046  40   5  46  For if ye love them which love you, what rewar...\n",
      "23287  40006005  40   6   5  And when thou prayest, thou shalt not be as th...\n",
      "...         ...  ..  ..  ..                                                ...\n",
      "26905  43021007  43  21   7  Therefore that disciple whom Jesus loved saith...\n",
      "26913  43021015  43  21  15  So when they had dined, Jesus saith to Simon P...\n",
      "26914  43021016  43  21  16  He saith to him again the second time, Simon, ...\n",
      "26915  43021017  43  21  17  He saith unto him the third time, Simon, son o...\n",
      "26918  43021020  43  21  20  Then Peter, turning about, seeth the disciple ...\n",
      "\n",
      "[75 rows x 5 columns]\n",
      "Search term 'love' appeared 98 times.\n"
     ]
    }
   ],
   "source": [
    "# Insert string that you want to look for\n",
    "search_term = 'love'\n",
    "# Insert the specific book number from column 'b' to search within\n",
    "#items_to_search = [40, 43]\n",
    "\n",
    "# Use this block if you want to search several consecutive items at once\n",
    "# for example, items 14 through 24\n",
    "start_item = 40\n",
    "end_item = 43\n",
    "filtered_df = df[df['b'].between(start_item, end_item) & df['t'].str.contains(search_term, case=False)]\n",
    "\n",
    "# Boolean indexing to filter rows based on the specified conditions\n",
    "#filtered_df = df[df['b'].isin(items_to_search) & df['t'].str.contains(search_term, case=False)]\n",
    "\n",
    "# Print the filtered dataframe\n",
    "print(filtered_df)\n",
    "\n",
    "# Count the amount of times search_term appears\n",
    "count = filtered_df['t'].str.count(search_term).sum()\n",
    "\n",
    "# Print number of times search term appeared in content\n",
    "print(f\"Search term '{search_term}' appeared {count} times.\")\n",
    "\n",
    "# Assuming you have a filtered dataframe named 'filtered_df'\n",
    "output_file = '/home/rancher/projects/Bible/dataset/output/filtered.csv'  # Specify the filename and path for the output file\n",
    "\n",
    "# Write the filtered dataframe to a CSV file\n",
    "filtered_df.to_csv(output_file, index=False)  # Set index=False to exclude the index column\n"
   ]
  },
  {
   "cell_type": "markdown",
   "id": "4433b4aa",
   "metadata": {},
   "source": [
    "## Visualize using matplot library"
   ]
  },
  {
   "cell_type": "code",
   "execution_count": 40,
   "id": "272be985",
   "metadata": {},
   "outputs": [
    {
     "data": {
      "image/png": "[encoded data removed]",
      "text/plain": [
       "<Figure size 640x480 with 1 Axes>"
      ]
     },
     "metadata": {},
     "output_type": "display_data"
    }
   ],
   "source": [
    "import pandas as pd\n",
    "import matplotlib.pyplot as plt\n",
    "\n",
    "# Assuming you have a filtered dataframe named 'filtered_df'\n",
    "# Assuming you have a search term named 'search_term'\n",
    "# Assuming you have a list of items to search named 'items_to_search'\n",
    "\n",
    "# Count the occurrences of the search term for each item in 'items_to_search'\n",
    "counts = []\n",
    "for item in items_to_search:\n",
    "    count = filtered_df[filtered_df['b'] == item]['t'].str.count(search_term).sum()\n",
    "    counts.append(count)\n",
    "\n",
    "# Create a bar chart to visualize the comparison\n",
    "plt.bar(range(len(items_to_search)), counts)\n",
    "plt.xticks(range(len(items_to_search)), items_to_search)\n",
    "plt.xlabel('Items')\n",
    "plt.ylabel('Count')\n",
    "plt.title(f\"Number of Occurrences of '{search_term}' in Items\")\n",
    "plt.show()"
   ]
  },
  {
   "cell_type": "code",
   "execution_count": 15,
   "id": "3b0e602c",
   "metadata": {},
   "outputs": [
    {
     "data": {
      "text/html": [
       "<div>\n",
       "<style scoped>\n",
       "    .dataframe tbody tr th:only-of-type {\n",
       "        vertical-align: middle;\n",
       "    }\n",
       "\n",
       "    .dataframe tbody tr th {\n",
       "        vertical-align: top;\n",
       "    }\n",
       "\n",
       "    .dataframe thead th {\n",
       "        text-align: right;\n",
       "    }\n",
       "</style>\n",
       "<table border=\"1\" class=\"dataframe\">\n",
       "  <thead>\n",
       "    <tr style=\"text-align: right;\">\n",
       "      <th></th>\n",
       "      <th>book</th>\n",
       "      <th>testament</th>\n",
       "      <th>genre</th>\n",
       "      <th>c</th>\n",
       "      <th>v</th>\n",
       "    </tr>\n",
       "  </thead>\n",
       "  <tbody>\n",
       "    <tr>\n",
       "      <th>58</th>\n",
       "      <td>Psalms</td>\n",
       "      <td>OT</td>\n",
       "      <td>Wisdom</td>\n",
       "      <td>150</td>\n",
       "      <td>2461</td>\n",
       "    </tr>\n",
       "    <tr>\n",
       "      <th>29</th>\n",
       "      <td>Genesis</td>\n",
       "      <td>OT</td>\n",
       "      <td>Law</td>\n",
       "      <td>50</td>\n",
       "      <td>1533</td>\n",
       "    </tr>\n",
       "    <tr>\n",
       "      <th>36</th>\n",
       "      <td>Jeremiah</td>\n",
       "      <td>OT</td>\n",
       "      <td>Prophets</td>\n",
       "      <td>52</td>\n",
       "      <td>1364</td>\n",
       "    </tr>\n",
       "    <tr>\n",
       "      <th>34</th>\n",
       "      <td>Isaiah</td>\n",
       "      <td>OT</td>\n",
       "      <td>Prophets</td>\n",
       "      <td>66</td>\n",
       "      <td>1292</td>\n",
       "    </tr>\n",
       "    <tr>\n",
       "      <th>53</th>\n",
       "      <td>Numbers</td>\n",
       "      <td>OT</td>\n",
       "      <td>Law</td>\n",
       "      <td>36</td>\n",
       "      <td>1288</td>\n",
       "    </tr>\n",
       "    <tr>\n",
       "      <th>...</th>\n",
       "      <td>...</td>\n",
       "      <td>...</td>\n",
       "      <td>...</td>\n",
       "      <td>...</td>\n",
       "      <td>...</td>\n",
       "    </tr>\n",
       "    <tr>\n",
       "      <th>55</th>\n",
       "      <td>Philemon</td>\n",
       "      <td>NT</td>\n",
       "      <td>Epistles</td>\n",
       "      <td>1</td>\n",
       "      <td>25</td>\n",
       "    </tr>\n",
       "    <tr>\n",
       "      <th>42</th>\n",
       "      <td>Jude</td>\n",
       "      <td>NT</td>\n",
       "      <td>Epistles</td>\n",
       "      <td>1</td>\n",
       "      <td>25</td>\n",
       "    </tr>\n",
       "    <tr>\n",
       "      <th>54</th>\n",
       "      <td>Obadiah</td>\n",
       "      <td>OT</td>\n",
       "      <td>Prophets</td>\n",
       "      <td>1</td>\n",
       "      <td>21</td>\n",
       "    </tr>\n",
       "    <tr>\n",
       "      <th>16</th>\n",
       "      <td>3 John</td>\n",
       "      <td>NT</td>\n",
       "      <td>Epistles</td>\n",
       "      <td>1</td>\n",
       "      <td>15</td>\n",
       "    </tr>\n",
       "    <tr>\n",
       "      <th>10</th>\n",
       "      <td>2 John</td>\n",
       "      <td>NT</td>\n",
       "      <td>Epistles</td>\n",
       "      <td>1</td>\n",
       "      <td>13</td>\n",
       "    </tr>\n",
       "  </tbody>\n",
       "</table>\n",
       "<p>66 rows × 5 columns</p>\n",
       "</div>"
      ],
      "text/plain": [
       "        book testament     genre    c     v\n",
       "58    Psalms        OT    Wisdom  150  2461\n",
       "29   Genesis        OT       Law   50  1533\n",
       "36  Jeremiah        OT  Prophets   52  1364\n",
       "34    Isaiah        OT  Prophets   66  1292\n",
       "53   Numbers        OT       Law   36  1288\n",
       "..       ...       ...       ...  ...   ...\n",
       "55  Philemon        NT  Epistles    1    25\n",
       "42      Jude        NT  Epistles    1    25\n",
       "54   Obadiah        OT  Prophets    1    21\n",
       "16    3 John        NT  Epistles    1    15\n",
       "10    2 John        NT  Epistles    1    13\n",
       "\n",
       "[66 rows x 5 columns]"
      ]
     },
     "execution_count": 15,
     "metadata": {},
     "output_type": "execute_result"
    }
   ],
   "source": [
    "df.groupby(by=['book', 'testament', 'genre']).agg({\n",
    "    'c' : 'max',\n",
    "    'v' : 'count'\n",
    "}).reset_index().sort_values(['v'], ascending = False)"
   ]
  }
 ],
 "metadata": {
  "kernelspec": {
   "display_name": "Python 3 (ipykernel)",
   "language": "python",
   "name": "python3"
  },
  "language_info": {
   "codemirror_mode": {
    "name": "ipython",
    "version": 3
   },
   "file_extension": ".py",
   "mimetype": "text/x-python",
   "name": "python",
   "nbconvert_exporter": "python",
   "pygments_lexer": "ipython3",
   "version": "3.8.10"
  }
 },
 "nbformat": 4,
 "nbformat_minor": 5
}
